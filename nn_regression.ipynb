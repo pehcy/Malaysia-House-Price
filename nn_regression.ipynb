{
 "cells": [
  {
   "cell_type": "code",
   "execution_count": 1,
   "metadata": {},
   "outputs": [],
   "source": [
    "import numpy as np\n",
    "import pandas as pd\n",
    "import matplotlib.pyplot as plt\n",
    "import seaborn as sb\n",
    "from sklearn.preprocessing import MinMaxScaler\n",
    "\n",
    "import torch\n",
    "from torch import nn\n",
    "import torch.nn.functional as F\n",
    "from torch.optim import Adam\n",
    "\n",
    "%matplotlib inline"
   ]
  },
  {
   "cell_type": "markdown",
   "metadata": {},
   "source": [
    "Let's check if PyTorch is using GPU"
   ]
  },
  {
   "cell_type": "code",
   "execution_count": 2,
   "metadata": {},
   "outputs": [
    {
     "name": "stdout",
     "output_type": "stream",
     "text": [
      "device: cuda:0\n",
      "NVIDIA GeForce RTX 3060\n"
     ]
    }
   ],
   "source": [
    "device = torch.device('cuda:0') if torch.cuda.is_available() else torch.device('cpu')\n",
    "print(f'device: {device}')\n",
    "print(torch.cuda.get_device_name(0))"
   ]
  },
  {
   "cell_type": "markdown",
   "metadata": {},
   "source": [
    "## Data Exploration\n",
    "\n",
    "The CSV file contained the house prices, the type of house asset (such as Condominium, Bungalow, etc.)"
   ]
  },
  {
   "cell_type": "code",
   "execution_count": 3,
   "metadata": {},
   "outputs": [
    {
     "name": "stdout",
     "output_type": "stream",
     "text": [
      "53883\n"
     ]
    }
   ],
   "source": [
    "df = pd.read_csv(\"data_kaggle.csv\")\n",
    "print(len(df))"
   ]
  },
  {
   "cell_type": "code",
   "execution_count": 4,
   "metadata": {},
   "outputs": [
    {
     "data": {
      "text/html": [
       "<div>\n",
       "<style scoped>\n",
       "    .dataframe tbody tr th:only-of-type {\n",
       "        vertical-align: middle;\n",
       "    }\n",
       "\n",
       "    .dataframe tbody tr th {\n",
       "        vertical-align: top;\n",
       "    }\n",
       "\n",
       "    .dataframe thead th {\n",
       "        text-align: right;\n",
       "    }\n",
       "</style>\n",
       "<table border=\"1\" class=\"dataframe\">\n",
       "  <thead>\n",
       "    <tr style=\"text-align: right;\">\n",
       "      <th></th>\n",
       "      <th>Location</th>\n",
       "      <th>Price</th>\n",
       "      <th>Rooms</th>\n",
       "      <th>Bathrooms</th>\n",
       "      <th>Car Parks</th>\n",
       "      <th>Property Type</th>\n",
       "      <th>Size</th>\n",
       "      <th>Furnishing</th>\n",
       "    </tr>\n",
       "  </thead>\n",
       "  <tbody>\n",
       "    <tr>\n",
       "      <th>0</th>\n",
       "      <td>KLCC, Kuala Lumpur</td>\n",
       "      <td>RM 1,250,000</td>\n",
       "      <td>2+1</td>\n",
       "      <td>3.0</td>\n",
       "      <td>2.0</td>\n",
       "      <td>Serviced Residence</td>\n",
       "      <td>Built-up : 1,335 sq. ft.</td>\n",
       "      <td>Fully Furnished</td>\n",
       "    </tr>\n",
       "    <tr>\n",
       "      <th>1</th>\n",
       "      <td>Damansara Heights, Kuala Lumpur</td>\n",
       "      <td>RM 6,800,000</td>\n",
       "      <td>6</td>\n",
       "      <td>7.0</td>\n",
       "      <td>NaN</td>\n",
       "      <td>Bungalow</td>\n",
       "      <td>Land area : 6900 sq. ft.</td>\n",
       "      <td>Partly Furnished</td>\n",
       "    </tr>\n",
       "    <tr>\n",
       "      <th>2</th>\n",
       "      <td>Dutamas, Kuala Lumpur</td>\n",
       "      <td>RM 1,030,000</td>\n",
       "      <td>3</td>\n",
       "      <td>4.0</td>\n",
       "      <td>2.0</td>\n",
       "      <td>Condominium (Corner)</td>\n",
       "      <td>Built-up : 1,875 sq. ft.</td>\n",
       "      <td>Partly Furnished</td>\n",
       "    </tr>\n",
       "    <tr>\n",
       "      <th>3</th>\n",
       "      <td>Cheras, Kuala Lumpur</td>\n",
       "      <td>NaN</td>\n",
       "      <td>NaN</td>\n",
       "      <td>NaN</td>\n",
       "      <td>NaN</td>\n",
       "      <td>NaN</td>\n",
       "      <td>NaN</td>\n",
       "      <td>NaN</td>\n",
       "    </tr>\n",
       "    <tr>\n",
       "      <th>4</th>\n",
       "      <td>Bukit Jalil, Kuala Lumpur</td>\n",
       "      <td>RM 900,000</td>\n",
       "      <td>4+1</td>\n",
       "      <td>3.0</td>\n",
       "      <td>2.0</td>\n",
       "      <td>Condominium (Corner)</td>\n",
       "      <td>Built-up : 1,513 sq. ft.</td>\n",
       "      <td>Partly Furnished</td>\n",
       "    </tr>\n",
       "  </tbody>\n",
       "</table>\n",
       "</div>"
      ],
      "text/plain": [
       "                          Location         Price Rooms  Bathrooms  Car Parks  \\\n",
       "0               KLCC, Kuala Lumpur  RM 1,250,000   2+1        3.0        2.0   \n",
       "1  Damansara Heights, Kuala Lumpur  RM 6,800,000     6        7.0        NaN   \n",
       "2            Dutamas, Kuala Lumpur  RM 1,030,000     3        4.0        2.0   \n",
       "3             Cheras, Kuala Lumpur           NaN   NaN        NaN        NaN   \n",
       "4        Bukit Jalil, Kuala Lumpur    RM 900,000   4+1        3.0        2.0   \n",
       "\n",
       "          Property Type                      Size        Furnishing  \n",
       "0    Serviced Residence  Built-up : 1,335 sq. ft.   Fully Furnished  \n",
       "1              Bungalow  Land area : 6900 sq. ft.  Partly Furnished  \n",
       "2  Condominium (Corner)  Built-up : 1,875 sq. ft.  Partly Furnished  \n",
       "3                   NaN                       NaN               NaN  \n",
       "4  Condominium (Corner)  Built-up : 1,513 sq. ft.  Partly Furnished  "
      ]
     },
     "execution_count": 4,
     "metadata": {},
     "output_type": "execute_result"
    }
   ],
   "source": [
    "df.head()"
   ]
  },
  {
   "cell_type": "markdown",
   "metadata": {},
   "source": [
    "## Data Cleaning (a.k.a Pre-processing)\n",
    "We noticed that there are some rows are \"NaN\", which containing meaningless values.\n",
    "Before make our hands wet, these values must be replace by mean either its mode or mean\n",
    "corresponding to its location."
   ]
  },
  {
   "cell_type": "code",
   "execution_count": 5,
   "metadata": {},
   "outputs": [],
   "source": [
    "import re\n",
    "import locale\n",
    "locale.setlocale(locale.LC_ALL, 'en_US.utf8')\n",
    "\n",
    "non_decimal = re.compile(r'[^\\dx]+')\n",
    "\n",
    "df['Price'] = df['Price'].apply(lambda x: non_decimal.sub('', str(x)))\n",
    "df['Price'] = df['Price'].apply(lambda x: int(x) / 1000000 if x != '' else np.nan)"
   ]
  },
  {
   "cell_type": "code",
   "execution_count": 6,
   "metadata": {},
   "outputs": [],
   "source": [
    "pattern = re.compile(r\"[A-Za-z] : (.,?[\\d.]+)[xX~]?(\\d+)? sq. ft.\")\n",
    "\n",
    "def check_none(val):\n",
    "    if not (val is None):\n",
    "        return locale.atof(str(val))\n",
    "    else:\n",
    "        return 1\n",
    "\n",
    "def format_size_col(x: str):\n",
    "    m = re.search(pattern, str(x))\n",
    "    if m:\n",
    "        result = locale.atof(m.groups()[0]) * check_none(m.groups()[1])\n",
    "        return result / 1000\n",
    "    else:\n",
    "        return float('nan')\n",
    "\n",
    "df['Size'] = df['Size'].apply(lambda x: format_size_col(x))\n",
    "# df['Size'] = df['Size'].apply(lambda x: np.sqrt(int(x)) if type(x) != str else float('nan'))"
   ]
  },
  {
   "cell_type": "code",
   "execution_count": 7,
   "metadata": {},
   "outputs": [],
   "source": [
    "def format_room_col(x):\n",
    "    return eval(str(x) if type(x) == str and x != 'Studio' else 'float(\"nan\")')\n",
    "\n",
    "df['Rooms'] = df['Rooms'].apply(lambda x: format_room_col(x))"
   ]
  },
  {
   "cell_type": "code",
   "execution_count": 8,
   "metadata": {},
   "outputs": [],
   "source": [
    "furnishing_dict = {\n",
    "    'Unfurnished': 0,\n",
    "    'Partly Furnished': 1,\n",
    "    'Fully Furnished': 2,\n",
    "}\n",
    "\n",
    "df['Furnishing'] = df['Furnishing'].apply(lambda x: int(furnishing_dict[x] if str(x) in furnishing_dict.keys() else 0))"
   ]
  },
  {
   "cell_type": "code",
   "execution_count": 9,
   "metadata": {},
   "outputs": [],
   "source": [
    "df['Location'] = df['Location'].apply(lambda x: x.removesuffix(', Kuala Lumpur'))"
   ]
  },
  {
   "cell_type": "markdown",
   "metadata": {},
   "source": [
    "### Handling missing values\n",
    "\n",
    "When dealing with missing data, data scientists use two common methods to solve this \n",
    "problem: imputations, or just removing the row that contains missing value.\n",
    "\n",
    "In this project, we will just drop the missing rows. "
   ]
  },
  {
   "cell_type": "code",
   "execution_count": 10,
   "metadata": {},
   "outputs": [],
   "source": [
    "df = df.dropna().reset_index(drop=True)"
   ]
  },
  {
   "cell_type": "code",
   "execution_count": 11,
   "metadata": {},
   "outputs": [],
   "source": [
    "df[['Rooms', 'Bathrooms', 'Car Parks']] = df[['Rooms', 'Bathrooms', 'Car Parks']].astype('float').astype('int')\n",
    "#df['Location'] = df['Location'].astype('category')"
   ]
  },
  {
   "cell_type": "code",
   "execution_count": 12,
   "metadata": {},
   "outputs": [
    {
     "data": {
      "text/html": [
       "<div>\n",
       "<style scoped>\n",
       "    .dataframe tbody tr th:only-of-type {\n",
       "        vertical-align: middle;\n",
       "    }\n",
       "\n",
       "    .dataframe tbody tr th {\n",
       "        vertical-align: top;\n",
       "    }\n",
       "\n",
       "    .dataframe thead th {\n",
       "        text-align: right;\n",
       "    }\n",
       "</style>\n",
       "<table border=\"1\" class=\"dataframe\">\n",
       "  <thead>\n",
       "    <tr style=\"text-align: right;\">\n",
       "      <th></th>\n",
       "      <th>Location</th>\n",
       "      <th>Price</th>\n",
       "      <th>Rooms</th>\n",
       "      <th>Bathrooms</th>\n",
       "      <th>Car Parks</th>\n",
       "      <th>Property Type</th>\n",
       "      <th>Size</th>\n",
       "      <th>Furnishing</th>\n",
       "    </tr>\n",
       "  </thead>\n",
       "  <tbody>\n",
       "    <tr>\n",
       "      <th>0</th>\n",
       "      <td>40</td>\n",
       "      <td>1.250</td>\n",
       "      <td>3</td>\n",
       "      <td>3</td>\n",
       "      <td>2</td>\n",
       "      <td>Serviced Residence</td>\n",
       "      <td>1.335</td>\n",
       "      <td>2</td>\n",
       "    </tr>\n",
       "    <tr>\n",
       "      <th>1</th>\n",
       "      <td>26</td>\n",
       "      <td>1.030</td>\n",
       "      <td>3</td>\n",
       "      <td>4</td>\n",
       "      <td>2</td>\n",
       "      <td>Condominium (Corner)</td>\n",
       "      <td>1.875</td>\n",
       "      <td>1</td>\n",
       "    </tr>\n",
       "    <tr>\n",
       "      <th>2</th>\n",
       "      <td>11</td>\n",
       "      <td>0.900</td>\n",
       "      <td>5</td>\n",
       "      <td>3</td>\n",
       "      <td>2</td>\n",
       "      <td>Condominium (Corner)</td>\n",
       "      <td>1.513</td>\n",
       "      <td>1</td>\n",
       "    </tr>\n",
       "    <tr>\n",
       "      <th>3</th>\n",
       "      <td>76</td>\n",
       "      <td>5.350</td>\n",
       "      <td>6</td>\n",
       "      <td>5</td>\n",
       "      <td>4</td>\n",
       "      <td>Bungalow</td>\n",
       "      <td>7.200</td>\n",
       "      <td>1</td>\n",
       "    </tr>\n",
       "    <tr>\n",
       "      <th>4</th>\n",
       "      <td>76</td>\n",
       "      <td>2.600</td>\n",
       "      <td>5</td>\n",
       "      <td>4</td>\n",
       "      <td>4</td>\n",
       "      <td>Semi-detached House</td>\n",
       "      <td>3.600</td>\n",
       "      <td>1</td>\n",
       "    </tr>\n",
       "    <tr>\n",
       "      <th>...</th>\n",
       "      <td>...</td>\n",
       "      <td>...</td>\n",
       "      <td>...</td>\n",
       "      <td>...</td>\n",
       "      <td>...</td>\n",
       "      <td>...</td>\n",
       "      <td>...</td>\n",
       "      <td>...</td>\n",
       "    </tr>\n",
       "    <tr>\n",
       "      <th>34424</th>\n",
       "      <td>46</td>\n",
       "      <td>0.585</td>\n",
       "      <td>4</td>\n",
       "      <td>3</td>\n",
       "      <td>2</td>\n",
       "      <td>Condominium</td>\n",
       "      <td>1.313</td>\n",
       "      <td>0</td>\n",
       "    </tr>\n",
       "    <tr>\n",
       "      <th>34425</th>\n",
       "      <td>39</td>\n",
       "      <td>1.400</td>\n",
       "      <td>4</td>\n",
       "      <td>3</td>\n",
       "      <td>2</td>\n",
       "      <td>Condominium (Corner)</td>\n",
       "      <td>1.544</td>\n",
       "      <td>2</td>\n",
       "    </tr>\n",
       "    <tr>\n",
       "      <th>34426</th>\n",
       "      <td>38</td>\n",
       "      <td>0.880</td>\n",
       "      <td>1</td>\n",
       "      <td>1</td>\n",
       "      <td>1</td>\n",
       "      <td>Condominium (Corner)</td>\n",
       "      <td>0.650</td>\n",
       "      <td>1</td>\n",
       "    </tr>\n",
       "    <tr>\n",
       "      <th>34427</th>\n",
       "      <td>66</td>\n",
       "      <td>2.700</td>\n",
       "      <td>6</td>\n",
       "      <td>6</td>\n",
       "      <td>3</td>\n",
       "      <td>Condominium (Corner)</td>\n",
       "      <td>3.973</td>\n",
       "      <td>1</td>\n",
       "    </tr>\n",
       "    <tr>\n",
       "      <th>34428</th>\n",
       "      <td>63</td>\n",
       "      <td>0.540</td>\n",
       "      <td>4</td>\n",
       "      <td>2</td>\n",
       "      <td>3</td>\n",
       "      <td>Condominium (Intermediate)</td>\n",
       "      <td>1.313</td>\n",
       "      <td>1</td>\n",
       "    </tr>\n",
       "  </tbody>\n",
       "</table>\n",
       "<p>34429 rows × 8 columns</p>\n",
       "</div>"
      ],
      "text/plain": [
       "       Location  Price  Rooms  Bathrooms  Car Parks  \\\n",
       "0            40  1.250      3          3          2   \n",
       "1            26  1.030      3          4          2   \n",
       "2            11  0.900      5          3          2   \n",
       "3            76  5.350      6          5          4   \n",
       "4            76  2.600      5          4          4   \n",
       "...         ...    ...    ...        ...        ...   \n",
       "34424        46  0.585      4          3          2   \n",
       "34425        39  1.400      4          3          2   \n",
       "34426        38  0.880      1          1          1   \n",
       "34427        66  2.700      6          6          3   \n",
       "34428        63  0.540      4          2          3   \n",
       "\n",
       "                    Property Type   Size  Furnishing  \n",
       "0              Serviced Residence  1.335           2  \n",
       "1            Condominium (Corner)  1.875           1  \n",
       "2            Condominium (Corner)  1.513           1  \n",
       "3                        Bungalow  7.200           1  \n",
       "4             Semi-detached House  3.600           1  \n",
       "...                           ...    ...         ...  \n",
       "34424                 Condominium  1.313           0  \n",
       "34425        Condominium (Corner)  1.544           2  \n",
       "34426        Condominium (Corner)  0.650           1  \n",
       "34427        Condominium (Corner)  3.973           1  \n",
       "34428  Condominium (Intermediate)  1.313           1  \n",
       "\n",
       "[34429 rows x 8 columns]"
      ]
     },
     "execution_count": 12,
     "metadata": {},
     "output_type": "execute_result"
    }
   ],
   "source": [
    "from sklearn.preprocessing import LabelEncoder\n",
    "\n",
    "df['Location'] = LabelEncoder().fit_transform(df['Location'])\n",
    "df"
   ]
  },
  {
   "cell_type": "code",
   "execution_count": 13,
   "metadata": {},
   "outputs": [
    {
     "data": {
      "text/html": [
       "<div>\n",
       "<style scoped>\n",
       "    .dataframe tbody tr th:only-of-type {\n",
       "        vertical-align: middle;\n",
       "    }\n",
       "\n",
       "    .dataframe tbody tr th {\n",
       "        vertical-align: top;\n",
       "    }\n",
       "\n",
       "    .dataframe thead th {\n",
       "        text-align: right;\n",
       "    }\n",
       "</style>\n",
       "<table border=\"1\" class=\"dataframe\">\n",
       "  <thead>\n",
       "    <tr style=\"text-align: right;\">\n",
       "      <th></th>\n",
       "      <th>Location</th>\n",
       "      <th>Price</th>\n",
       "      <th>Rooms</th>\n",
       "      <th>Bathrooms</th>\n",
       "      <th>Car Parks</th>\n",
       "      <th>Property Type</th>\n",
       "      <th>Size</th>\n",
       "      <th>Furnishing</th>\n",
       "    </tr>\n",
       "  </thead>\n",
       "  <tbody>\n",
       "    <tr>\n",
       "      <th>0</th>\n",
       "      <td>40</td>\n",
       "      <td>1.250</td>\n",
       "      <td>3</td>\n",
       "      <td>3</td>\n",
       "      <td>2</td>\n",
       "      <td>77</td>\n",
       "      <td>1.335</td>\n",
       "      <td>2</td>\n",
       "    </tr>\n",
       "    <tr>\n",
       "      <th>1</th>\n",
       "      <td>26</td>\n",
       "      <td>1.030</td>\n",
       "      <td>3</td>\n",
       "      <td>4</td>\n",
       "      <td>2</td>\n",
       "      <td>55</td>\n",
       "      <td>1.875</td>\n",
       "      <td>1</td>\n",
       "    </tr>\n",
       "    <tr>\n",
       "      <th>2</th>\n",
       "      <td>11</td>\n",
       "      <td>0.900</td>\n",
       "      <td>5</td>\n",
       "      <td>3</td>\n",
       "      <td>2</td>\n",
       "      <td>55</td>\n",
       "      <td>1.513</td>\n",
       "      <td>1</td>\n",
       "    </tr>\n",
       "    <tr>\n",
       "      <th>3</th>\n",
       "      <td>76</td>\n",
       "      <td>5.350</td>\n",
       "      <td>6</td>\n",
       "      <td>5</td>\n",
       "      <td>4</td>\n",
       "      <td>44</td>\n",
       "      <td>7.200</td>\n",
       "      <td>1</td>\n",
       "    </tr>\n",
       "    <tr>\n",
       "      <th>4</th>\n",
       "      <td>76</td>\n",
       "      <td>2.600</td>\n",
       "      <td>5</td>\n",
       "      <td>4</td>\n",
       "      <td>4</td>\n",
       "      <td>71</td>\n",
       "      <td>3.600</td>\n",
       "      <td>1</td>\n",
       "    </tr>\n",
       "    <tr>\n",
       "      <th>...</th>\n",
       "      <td>...</td>\n",
       "      <td>...</td>\n",
       "      <td>...</td>\n",
       "      <td>...</td>\n",
       "      <td>...</td>\n",
       "      <td>...</td>\n",
       "      <td>...</td>\n",
       "      <td>...</td>\n",
       "    </tr>\n",
       "    <tr>\n",
       "      <th>34424</th>\n",
       "      <td>46</td>\n",
       "      <td>0.585</td>\n",
       "      <td>4</td>\n",
       "      <td>3</td>\n",
       "      <td>2</td>\n",
       "      <td>54</td>\n",
       "      <td>1.313</td>\n",
       "      <td>0</td>\n",
       "    </tr>\n",
       "    <tr>\n",
       "      <th>34425</th>\n",
       "      <td>39</td>\n",
       "      <td>1.400</td>\n",
       "      <td>4</td>\n",
       "      <td>3</td>\n",
       "      <td>2</td>\n",
       "      <td>55</td>\n",
       "      <td>1.544</td>\n",
       "      <td>2</td>\n",
       "    </tr>\n",
       "    <tr>\n",
       "      <th>34426</th>\n",
       "      <td>38</td>\n",
       "      <td>0.880</td>\n",
       "      <td>1</td>\n",
       "      <td>1</td>\n",
       "      <td>1</td>\n",
       "      <td>55</td>\n",
       "      <td>0.650</td>\n",
       "      <td>1</td>\n",
       "    </tr>\n",
       "    <tr>\n",
       "      <th>34427</th>\n",
       "      <td>66</td>\n",
       "      <td>2.700</td>\n",
       "      <td>6</td>\n",
       "      <td>6</td>\n",
       "      <td>3</td>\n",
       "      <td>55</td>\n",
       "      <td>3.973</td>\n",
       "      <td>1</td>\n",
       "    </tr>\n",
       "    <tr>\n",
       "      <th>34428</th>\n",
       "      <td>63</td>\n",
       "      <td>0.540</td>\n",
       "      <td>4</td>\n",
       "      <td>2</td>\n",
       "      <td>3</td>\n",
       "      <td>58</td>\n",
       "      <td>1.313</td>\n",
       "      <td>1</td>\n",
       "    </tr>\n",
       "  </tbody>\n",
       "</table>\n",
       "<p>34429 rows × 8 columns</p>\n",
       "</div>"
      ],
      "text/plain": [
       "       Location  Price  Rooms  Bathrooms  Car Parks  Property Type   Size  \\\n",
       "0            40  1.250      3          3          2             77  1.335   \n",
       "1            26  1.030      3          4          2             55  1.875   \n",
       "2            11  0.900      5          3          2             55  1.513   \n",
       "3            76  5.350      6          5          4             44  7.200   \n",
       "4            76  2.600      5          4          4             71  3.600   \n",
       "...         ...    ...    ...        ...        ...            ...    ...   \n",
       "34424        46  0.585      4          3          2             54  1.313   \n",
       "34425        39  1.400      4          3          2             55  1.544   \n",
       "34426        38  0.880      1          1          1             55  0.650   \n",
       "34427        66  2.700      6          6          3             55  3.973   \n",
       "34428        63  0.540      4          2          3             58  1.313   \n",
       "\n",
       "       Furnishing  \n",
       "0               2  \n",
       "1               1  \n",
       "2               1  \n",
       "3               1  \n",
       "4               1  \n",
       "...           ...  \n",
       "34424           0  \n",
       "34425           2  \n",
       "34426           1  \n",
       "34427           1  \n",
       "34428           1  \n",
       "\n",
       "[34429 rows x 8 columns]"
      ]
     },
     "execution_count": 13,
     "metadata": {},
     "output_type": "execute_result"
    }
   ],
   "source": [
    "df['Property Type'] = LabelEncoder().fit_transform(df['Property Type'])\n",
    "df"
   ]
  },
  {
   "cell_type": "markdown",
   "metadata": {},
   "source": [
    "## Building Machine Learning Model"
   ]
  },
  {
   "cell_type": "code",
   "execution_count": 15,
   "metadata": {},
   "outputs": [],
   "source": [
    "cat_feat = [\"Location\", \"Rooms\", \"Bathrooms\", \"Car Parks\", \"Property Type\", \"Furnishing\"]\n",
    "out_feat = \"Price\""
   ]
  },
  {
   "cell_type": "code",
   "execution_count": 16,
   "metadata": {},
   "outputs": [
    {
     "data": {
      "text/plain": [
       "tensor([[40,  3,  3,  2, 77,  2],\n",
       "        [26,  3,  4,  2, 55,  1],\n",
       "        [11,  5,  3,  2, 55,  1],\n",
       "        ...,\n",
       "        [38,  1,  1,  1, 55,  1],\n",
       "        [66,  6,  6,  3, 55,  1],\n",
       "        [63,  4,  2,  3, 58,  1]], device='cuda:0')"
      ]
     },
     "execution_count": 16,
     "metadata": {},
     "output_type": "execute_result"
    }
   ],
   "source": [
    "cat = torch.tensor(df[cat_feat].to_numpy(), dtype=torch.int64).to(device)\n",
    "cat"
   ]
  },
  {
   "cell_type": "code",
   "execution_count": 17,
   "metadata": {},
   "outputs": [
    {
     "data": {
      "text/plain": [
       "array([[40,  3,  3,  2, 77,  2],\n",
       "       [26,  3,  4,  2, 55,  1],\n",
       "       [11,  5,  3,  2, 55,  1],\n",
       "       ...,\n",
       "       [38,  1,  1,  1, 55,  1],\n",
       "       [66,  6,  6,  3, 55,  1],\n",
       "       [63,  4,  2,  3, 58,  1]])"
      ]
     },
     "execution_count": 17,
     "metadata": {},
     "output_type": "execute_result"
    }
   ],
   "source": [
    "df[cat_feat].to_numpy()"
   ]
  },
  {
   "cell_type": "code",
   "execution_count": 18,
   "metadata": {},
   "outputs": [
    {
     "data": {
      "text/plain": [
       "tensor([[1.3350],\n",
       "        [1.8750],\n",
       "        [1.5130],\n",
       "        ...,\n",
       "        [0.6500],\n",
       "        [3.9730],\n",
       "        [1.3130]], device='cuda:0')"
      ]
     },
     "execution_count": 18,
     "metadata": {},
     "output_type": "execute_result"
    }
   ],
   "source": [
    "# continuous features\n",
    "cont_feat = \"Size\"\n",
    "cont = torch.tensor(df[cont_feat].to_numpy(), dtype=torch.float32).reshape(-1, 1).to(device)\n",
    "cont"
   ]
  },
  {
   "cell_type": "code",
   "execution_count": 19,
   "metadata": {},
   "outputs": [
    {
     "data": {
      "text/plain": [
       "tensor([[1.2500],\n",
       "        [1.0300],\n",
       "        [0.9000],\n",
       "        ...,\n",
       "        [0.8800],\n",
       "        [2.7000],\n",
       "        [0.5400]], device='cuda:0')"
      ]
     },
     "execution_count": 19,
     "metadata": {},
     "output_type": "execute_result"
    }
   ],
   "source": [
    "y = torch.tensor(df[\"Price\"].to_numpy(), dtype=torch.float32).reshape(-1, 1).to(device)\n",
    "y"
   ]
  },
  {
   "cell_type": "code",
   "execution_count": 20,
   "metadata": {},
   "outputs": [
    {
     "data": {
      "text/plain": [
       "[82, 17, 17, 21, 91, 3]"
      ]
     },
     "execution_count": 20,
     "metadata": {},
     "output_type": "execute_result"
    }
   ],
   "source": [
    "cat_dims = [len(df[col].unique()) for col in cat_feat]\n",
    "cat_dims"
   ]
  },
  {
   "cell_type": "code",
   "execution_count": 21,
   "metadata": {},
   "outputs": [
    {
     "data": {
      "text/plain": [
       "[(82, 41), (17, 9), (17, 9), (21, 11), (91, 46), (3, 2)]"
      ]
     },
     "execution_count": 21,
     "metadata": {},
     "output_type": "execute_result"
    }
   ],
   "source": [
    "embedding_dims = [(x, min(50, (x + 1) // 2)) for x in cat_dims]\n",
    "embedding_dims"
   ]
  },
  {
   "cell_type": "code",
   "execution_count": 22,
   "metadata": {},
   "outputs": [],
   "source": [
    "class SparseTabularNN(nn.Module):\n",
    "    def __init__(self, embedding_dim, n_cont, out_sz, layers, dropout_rate=0.5) -> None:\n",
    "        super().__init__()\n",
    "        self.embeds = nn.ModuleList([\n",
    "            nn.Embedding(inp, out) for inp, out in embedding_dim\n",
    "        ])\n",
    "        self.emb_drop = nn.Dropout(dropout_rate)\n",
    "        self.bn_cont = nn.BatchNorm1d(n_cont)\n",
    "\n",
    "        layer_list = []\n",
    "        n_emb = sum((out for _, out in embedding_dim))\n",
    "        n_in = n_emb + n_cont\n",
    "\n",
    "        for i in layers:\n",
    "            layer_list.append(nn.Linear(n_in, i))\n",
    "            layer_list.append(nn.ReLU(inplace=True))\n",
    "            layer_list.append(nn.BatchNorm1d(i))\n",
    "            layer_list.append(nn.Dropout(dropout_rate))\n",
    "            n_in = i\n",
    "        \n",
    "        layer_list.append(nn.Linear(layers[-1], out_sz))\n",
    "        \n",
    "        self.layers = nn.Sequential(*layer_list)\n",
    "        \n",
    "    def forward(self, x_cat, x_cont):\n",
    "        embeddings = [e(x_cat[:,i]) for i, e in enumerate(self.embeds)]\n",
    "        x = torch.cat(embeddings, 1)\n",
    "        x = self.emb_drop(x)\n",
    "\n",
    "        x2 = self.bn_cont(x_cont)\n",
    "        x = torch.cat([x, x2], 1)\n",
    "        x = self.layers(x)\n",
    "\n",
    "        return x"
   ]
  },
  {
   "cell_type": "code",
   "execution_count": 25,
   "metadata": {},
   "outputs": [],
   "source": [
    "model = SparseTabularNN(embedding_dims, 1, 1, [200, 70], dropout_rate=0.40).to(device)"
   ]
  },
  {
   "cell_type": "code",
   "execution_count": 26,
   "metadata": {},
   "outputs": [
    {
     "data": {
      "text/plain": [
       "SparseTabularNN(\n",
       "  (embeds): ModuleList(\n",
       "    (0): Embedding(82, 41)\n",
       "    (1-2): 2 x Embedding(17, 9)\n",
       "    (3): Embedding(21, 11)\n",
       "    (4): Embedding(91, 46)\n",
       "    (5): Embedding(3, 2)\n",
       "  )\n",
       "  (emb_drop): Dropout(p=0.4, inplace=False)\n",
       "  (bn_cont): BatchNorm1d(1, eps=1e-05, momentum=0.1, affine=True, track_running_stats=True)\n",
       "  (layers): Sequential(\n",
       "    (0): Linear(in_features=119, out_features=200, bias=True)\n",
       "    (1): ReLU(inplace=True)\n",
       "    (2): BatchNorm1d(200, eps=1e-05, momentum=0.1, affine=True, track_running_stats=True)\n",
       "    (3): Dropout(p=0.4, inplace=False)\n",
       "    (4): Linear(in_features=200, out_features=70, bias=True)\n",
       "    (5): ReLU(inplace=True)\n",
       "    (6): BatchNorm1d(70, eps=1e-05, momentum=0.1, affine=True, track_running_stats=True)\n",
       "    (7): Dropout(p=0.4, inplace=False)\n",
       "    (8): Linear(in_features=70, out_features=1, bias=True)\n",
       "  )\n",
       ")"
      ]
     },
     "execution_count": 26,
     "metadata": {},
     "output_type": "execute_result"
    }
   ],
   "source": [
    "model.eval()"
   ]
  },
  {
   "cell_type": "code",
   "execution_count": 27,
   "metadata": {},
   "outputs": [
    {
     "name": "stderr",
     "output_type": "stream",
     "text": [
      "/home/pehcy/miniconda3/envs/nphouse/lib/python3.10/site-packages/tqdm/auto.py:21: TqdmWarning: IProgress not found. Please update jupyter and ipywidgets. See https://ipywidgets.readthedocs.io/en/stable/user_install.html\n",
      "  from .autonotebook import tqdm as notebook_tqdm\n"
     ]
    }
   ],
   "source": [
    "loss_fn = nn.MSELoss()\n",
    "optimizer = Adam(model.parameters(), lr=0.01)"
   ]
  },
  {
   "cell_type": "code",
   "execution_count": 28,
   "metadata": {},
   "outputs": [],
   "source": [
    "batch_size=1200\n",
    "test_size=int(batch_size*0.15)\n",
    "train_categorical=cat[:batch_size-test_size]\n",
    "test_categorical=cat[batch_size-test_size:batch_size]\n",
    "train_cont=cont[:batch_size-test_size]\n",
    "test_cont=cont[batch_size-test_size:batch_size]\n",
    "y_train=y[:batch_size-test_size]\n",
    "y_test=y[batch_size-test_size:batch_size]"
   ]
  },
  {
   "cell_type": "code",
   "execution_count": 29,
   "metadata": {},
   "outputs": [
    {
     "data": {
      "text/plain": [
       "(1020, 180, 1020, 180, 1020, 180)"
      ]
     },
     "execution_count": 29,
     "metadata": {},
     "output_type": "execute_result"
    }
   ],
   "source": [
    "len(train_categorical),len(test_categorical),len(train_cont),len(test_cont),len(y_train),len(y_test)"
   ]
  },
  {
   "cell_type": "code",
   "execution_count": 30,
   "metadata": {},
   "outputs": [
    {
     "data": {
      "text/plain": [
       "tensor([[119.3350],\n",
       "        [119.8750],\n",
       "        [119.5130],\n",
       "        ...,\n",
       "        [119.1310],\n",
       "        [118.6100],\n",
       "        [119.3130]], device='cuda:0')"
      ]
     },
     "execution_count": 30,
     "metadata": {},
     "output_type": "execute_result"
    }
   ],
   "source": [
    "sum((out for _, out in embedding_dims)) + train_cont"
   ]
  },
  {
   "cell_type": "code",
   "execution_count": 37,
   "metadata": {},
   "outputs": [
    {
     "name": "stdout",
     "output_type": "stream",
     "text": [
      "Epoch number: 1 and the loss : 0.12867027521133423\n",
      "Epoch number: 101 and the loss : 0.13837115466594696\n",
      "Epoch number: 201 and the loss : 0.12550419569015503\n",
      "Epoch number: 301 and the loss : 0.11682416498661041\n",
      "Epoch number: 401 and the loss : 0.12060879170894623\n",
      "Epoch number: 501 and the loss : 0.116770900785923\n",
      "Epoch number: 601 and the loss : 0.12021146714687347\n",
      "Epoch number: 701 and the loss : 0.11955292522907257\n",
      "Epoch number: 801 and the loss : 0.11249040067195892\n",
      "Epoch number: 901 and the loss : 0.11373913288116455\n",
      "Epoch number: 1001 and the loss : 0.11126025021076202\n",
      "Epoch number: 1101 and the loss : 0.11212961375713348\n",
      "Epoch number: 1201 and the loss : 0.1134212538599968\n",
      "Epoch number: 1301 and the loss : 0.11427037417888641\n",
      "Epoch number: 1401 and the loss : 0.11493891477584839\n",
      "Epoch number: 1501 and the loss : 0.11979182064533234\n",
      "Epoch number: 1601 and the loss : 0.11334259063005447\n",
      "Epoch number: 1701 and the loss : 0.11177452653646469\n",
      "Epoch number: 1801 and the loss : 0.11214050650596619\n",
      "Epoch number: 1901 and the loss : 0.11076723039150238\n",
      "Epoch number: 2001 and the loss : 0.11050063371658325\n",
      "Epoch number: 2101 and the loss : 0.1272532045841217\n",
      "Epoch number: 2201 and the loss : 0.11307413876056671\n",
      "Epoch number: 2301 and the loss : 0.11192068457603455\n",
      "Epoch number: 2401 and the loss : 0.11103737354278564\n",
      "Epoch number: 2501 and the loss : 0.11152296513319016\n",
      "Epoch number: 2601 and the loss : 0.11208964884281158\n",
      "Epoch number: 2701 and the loss : 0.11235091835260391\n",
      "Epoch number: 2801 and the loss : 0.11218354105949402\n",
      "Epoch number: 2901 and the loss : 0.11863206326961517\n",
      "Epoch number: 3001 and the loss : 0.11364695429801941\n",
      "Epoch number: 3101 and the loss : 0.11246157437562943\n",
      "Epoch number: 3201 and the loss : 0.11243884265422821\n",
      "Epoch number: 3301 and the loss : 0.11401048302650452\n",
      "Epoch number: 3401 and the loss : 0.11381171643733978\n",
      "Epoch number: 3501 and the loss : 0.11176788061857224\n",
      "Epoch number: 3601 and the loss : 0.14132225513458252\n",
      "Epoch number: 3701 and the loss : 0.1191408559679985\n",
      "Epoch number: 3801 and the loss : 0.11536139249801636\n",
      "Epoch number: 3901 and the loss : 0.11599832773208618\n",
      "Epoch number: 4001 and the loss : 0.11461998522281647\n",
      "Epoch number: 4101 and the loss : 0.11382382363080978\n",
      "Epoch number: 4201 and the loss : 0.11243224143981934\n",
      "Epoch number: 4301 and the loss : 0.1151602640748024\n",
      "Epoch number: 4401 and the loss : 0.11178478598594666\n",
      "Epoch number: 4501 and the loss : 0.11133935302495956\n",
      "Epoch number: 4601 and the loss : 0.11273184418678284\n",
      "Epoch number: 4701 and the loss : 0.11366566270589828\n",
      "Epoch number: 4801 and the loss : 0.11102262884378433\n",
      "Epoch number: 4901 and the loss : 0.10955189913511276\n"
     ]
    }
   ],
   "source": [
    "epochs=5000\n",
    "final_losses=[]\n",
    "for i in range(epochs):\n",
    "    i=i+1\n",
    "    y_pred=model(train_categorical,train_cont)\n",
    "    loss=torch.sqrt(loss_fn(y_pred,y_train)) ### RMSE\n",
    "    final_losses.append(loss.detach().cpu().numpy())\n",
    "    \n",
    "    if i % 100 == 1:\n",
    "        print(\"Epoch number: {} and the loss : {}\".format(i,loss.item()))\n",
    "    optimizer.zero_grad()\n",
    "    loss.backward()\n",
    "    optimizer.step()"
   ]
  },
  {
   "cell_type": "code",
   "execution_count": 35,
   "metadata": {},
   "outputs": [],
   "source": [
    "import matplotlib.pyplot as plt\n",
    "%matplotlib inline\n",
    "plt.plot(range(epochs), final_losses)\n",
    "plt.ylabel('RMSE Loss')\n",
    "plt.xlabel('epoch');"
   ]
  }
 ],
 "metadata": {
  "kernelspec": {
   "display_name": "diffusion",
   "language": "python",
   "name": "python3"
  },
  "language_info": {
   "codemirror_mode": {
    "name": "ipython",
    "version": 3
   },
   "file_extension": ".py",
   "mimetype": "text/x-python",
   "name": "python",
   "nbconvert_exporter": "python",
   "pygments_lexer": "ipython3",
   "version": "3.10.13"
  }
 },
 "nbformat": 4,
 "nbformat_minor": 2
}
